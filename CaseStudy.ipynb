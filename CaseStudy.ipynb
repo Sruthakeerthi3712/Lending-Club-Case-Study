{
 "cells": [
  {
   "cell_type": "code",
   "execution_count": 605,
   "id": "27cb4804",
   "metadata": {},
   "outputs": [],
   "source": [
    "import numpy as np\n",
    "import pandas as pd\n",
    "import matplotlib.pyplot as plt\n",
    "import seaborn as sns\n",
    "import warnings\n",
    "warnings.filterwarnings('ignore')"
   ]
  },
  {
   "cell_type": "code",
   "execution_count": 606,
   "id": "4adb2354",
   "metadata": {},
   "outputs": [],
   "source": [
    "#read loan.csv file\n",
    "loan_main=pd.read_csv('loan.csv')"
   ]
  },
  {
   "cell_type": "code",
   "execution_count": 607,
   "id": "ba45cff7",
   "metadata": {},
   "outputs": [
    {
     "data": {
      "text/html": [
       "<div>\n",
       "<style scoped>\n",
       "    .dataframe tbody tr th:only-of-type {\n",
       "        vertical-align: middle;\n",
       "    }\n",
       "\n",
       "    .dataframe tbody tr th {\n",
       "        vertical-align: top;\n",
       "    }\n",
       "\n",
       "    .dataframe thead th {\n",
       "        text-align: right;\n",
       "    }\n",
       "</style>\n",
       "<table border=\"1\" class=\"dataframe\">\n",
       "  <thead>\n",
       "    <tr style=\"text-align: right;\">\n",
       "      <th></th>\n",
       "      <th>id</th>\n",
       "      <th>member_id</th>\n",
       "      <th>loan_amnt</th>\n",
       "      <th>funded_amnt</th>\n",
       "      <th>funded_amnt_inv</th>\n",
       "      <th>term</th>\n",
       "      <th>int_rate</th>\n",
       "      <th>installment</th>\n",
       "      <th>grade</th>\n",
       "      <th>sub_grade</th>\n",
       "      <th>...</th>\n",
       "      <th>num_tl_90g_dpd_24m</th>\n",
       "      <th>num_tl_op_past_12m</th>\n",
       "      <th>pct_tl_nvr_dlq</th>\n",
       "      <th>percent_bc_gt_75</th>\n",
       "      <th>pub_rec_bankruptcies</th>\n",
       "      <th>tax_liens</th>\n",
       "      <th>tot_hi_cred_lim</th>\n",
       "      <th>total_bal_ex_mort</th>\n",
       "      <th>total_bc_limit</th>\n",
       "      <th>total_il_high_credit_limit</th>\n",
       "    </tr>\n",
       "  </thead>\n",
       "  <tbody>\n",
       "    <tr>\n",
       "      <th>0</th>\n",
       "      <td>1077501</td>\n",
       "      <td>1296599</td>\n",
       "      <td>5000</td>\n",
       "      <td>5000</td>\n",
       "      <td>4975.0</td>\n",
       "      <td>36 months</td>\n",
       "      <td>10.65%</td>\n",
       "      <td>162.87</td>\n",
       "      <td>B</td>\n",
       "      <td>B2</td>\n",
       "      <td>...</td>\n",
       "      <td>NaN</td>\n",
       "      <td>NaN</td>\n",
       "      <td>NaN</td>\n",
       "      <td>NaN</td>\n",
       "      <td>0.0</td>\n",
       "      <td>0.0</td>\n",
       "      <td>NaN</td>\n",
       "      <td>NaN</td>\n",
       "      <td>NaN</td>\n",
       "      <td>NaN</td>\n",
       "    </tr>\n",
       "    <tr>\n",
       "      <th>1</th>\n",
       "      <td>1077430</td>\n",
       "      <td>1314167</td>\n",
       "      <td>2500</td>\n",
       "      <td>2500</td>\n",
       "      <td>2500.0</td>\n",
       "      <td>60 months</td>\n",
       "      <td>15.27%</td>\n",
       "      <td>59.83</td>\n",
       "      <td>C</td>\n",
       "      <td>C4</td>\n",
       "      <td>...</td>\n",
       "      <td>NaN</td>\n",
       "      <td>NaN</td>\n",
       "      <td>NaN</td>\n",
       "      <td>NaN</td>\n",
       "      <td>0.0</td>\n",
       "      <td>0.0</td>\n",
       "      <td>NaN</td>\n",
       "      <td>NaN</td>\n",
       "      <td>NaN</td>\n",
       "      <td>NaN</td>\n",
       "    </tr>\n",
       "    <tr>\n",
       "      <th>2</th>\n",
       "      <td>1077175</td>\n",
       "      <td>1313524</td>\n",
       "      <td>2400</td>\n",
       "      <td>2400</td>\n",
       "      <td>2400.0</td>\n",
       "      <td>36 months</td>\n",
       "      <td>15.96%</td>\n",
       "      <td>84.33</td>\n",
       "      <td>C</td>\n",
       "      <td>C5</td>\n",
       "      <td>...</td>\n",
       "      <td>NaN</td>\n",
       "      <td>NaN</td>\n",
       "      <td>NaN</td>\n",
       "      <td>NaN</td>\n",
       "      <td>0.0</td>\n",
       "      <td>0.0</td>\n",
       "      <td>NaN</td>\n",
       "      <td>NaN</td>\n",
       "      <td>NaN</td>\n",
       "      <td>NaN</td>\n",
       "    </tr>\n",
       "    <tr>\n",
       "      <th>3</th>\n",
       "      <td>1076863</td>\n",
       "      <td>1277178</td>\n",
       "      <td>10000</td>\n",
       "      <td>10000</td>\n",
       "      <td>10000.0</td>\n",
       "      <td>36 months</td>\n",
       "      <td>13.49%</td>\n",
       "      <td>339.31</td>\n",
       "      <td>C</td>\n",
       "      <td>C1</td>\n",
       "      <td>...</td>\n",
       "      <td>NaN</td>\n",
       "      <td>NaN</td>\n",
       "      <td>NaN</td>\n",
       "      <td>NaN</td>\n",
       "      <td>0.0</td>\n",
       "      <td>0.0</td>\n",
       "      <td>NaN</td>\n",
       "      <td>NaN</td>\n",
       "      <td>NaN</td>\n",
       "      <td>NaN</td>\n",
       "    </tr>\n",
       "    <tr>\n",
       "      <th>4</th>\n",
       "      <td>1075358</td>\n",
       "      <td>1311748</td>\n",
       "      <td>3000</td>\n",
       "      <td>3000</td>\n",
       "      <td>3000.0</td>\n",
       "      <td>60 months</td>\n",
       "      <td>12.69%</td>\n",
       "      <td>67.79</td>\n",
       "      <td>B</td>\n",
       "      <td>B5</td>\n",
       "      <td>...</td>\n",
       "      <td>NaN</td>\n",
       "      <td>NaN</td>\n",
       "      <td>NaN</td>\n",
       "      <td>NaN</td>\n",
       "      <td>0.0</td>\n",
       "      <td>0.0</td>\n",
       "      <td>NaN</td>\n",
       "      <td>NaN</td>\n",
       "      <td>NaN</td>\n",
       "      <td>NaN</td>\n",
       "    </tr>\n",
       "  </tbody>\n",
       "</table>\n",
       "<p>5 rows × 111 columns</p>\n",
       "</div>"
      ],
      "text/plain": [
       "        id  member_id  loan_amnt  funded_amnt  funded_amnt_inv        term  \\\n",
       "0  1077501    1296599       5000         5000           4975.0   36 months   \n",
       "1  1077430    1314167       2500         2500           2500.0   60 months   \n",
       "2  1077175    1313524       2400         2400           2400.0   36 months   \n",
       "3  1076863    1277178      10000        10000          10000.0   36 months   \n",
       "4  1075358    1311748       3000         3000           3000.0   60 months   \n",
       "\n",
       "  int_rate  installment grade sub_grade  ... num_tl_90g_dpd_24m  \\\n",
       "0   10.65%       162.87     B        B2  ...                NaN   \n",
       "1   15.27%        59.83     C        C4  ...                NaN   \n",
       "2   15.96%        84.33     C        C5  ...                NaN   \n",
       "3   13.49%       339.31     C        C1  ...                NaN   \n",
       "4   12.69%        67.79     B        B5  ...                NaN   \n",
       "\n",
       "  num_tl_op_past_12m pct_tl_nvr_dlq  percent_bc_gt_75 pub_rec_bankruptcies  \\\n",
       "0                NaN            NaN               NaN                  0.0   \n",
       "1                NaN            NaN               NaN                  0.0   \n",
       "2                NaN            NaN               NaN                  0.0   \n",
       "3                NaN            NaN               NaN                  0.0   \n",
       "4                NaN            NaN               NaN                  0.0   \n",
       "\n",
       "  tax_liens tot_hi_cred_lim total_bal_ex_mort total_bc_limit  \\\n",
       "0       0.0             NaN               NaN            NaN   \n",
       "1       0.0             NaN               NaN            NaN   \n",
       "2       0.0             NaN               NaN            NaN   \n",
       "3       0.0             NaN               NaN            NaN   \n",
       "4       0.0             NaN               NaN            NaN   \n",
       "\n",
       "  total_il_high_credit_limit  \n",
       "0                        NaN  \n",
       "1                        NaN  \n",
       "2                        NaN  \n",
       "3                        NaN  \n",
       "4                        NaN  \n",
       "\n",
       "[5 rows x 111 columns]"
      ]
     },
     "execution_count": 607,
     "metadata": {},
     "output_type": "execute_result"
    }
   ],
   "source": [
    "#display few records \n",
    "loan_main.head()"
   ]
  },
  {
   "cell_type": "code",
   "execution_count": 608,
   "id": "dff9db42",
   "metadata": {},
   "outputs": [
    {
     "name": "stdout",
     "output_type": "stream",
     "text": [
      "<class 'pandas.core.frame.DataFrame'>\n",
      "RangeIndex: 39717 entries, 0 to 39716\n",
      "Columns: 111 entries, id to total_il_high_credit_limit\n",
      "dtypes: float64(74), int64(13), object(24)\n",
      "memory usage: 33.6+ MB\n"
     ]
    }
   ],
   "source": [
    "loan_main.info()"
   ]
  },
  {
   "cell_type": "code",
   "execution_count": 609,
   "id": "17e1f4d7",
   "metadata": {},
   "outputs": [
    {
     "data": {
      "text/plain": [
       "id                                0\n",
       "member_id                         0\n",
       "loan_amnt                         0\n",
       "funded_amnt                       0\n",
       "funded_amnt_inv                   0\n",
       "                              ...  \n",
       "tax_liens                        39\n",
       "tot_hi_cred_lim               39717\n",
       "total_bal_ex_mort             39717\n",
       "total_bc_limit                39717\n",
       "total_il_high_credit_limit    39717\n",
       "Length: 111, dtype: int64"
      ]
     },
     "execution_count": 609,
     "metadata": {},
     "output_type": "execute_result"
    }
   ],
   "source": [
    "#calculating no.of missing values in each column\n",
    "loan_main.isnull().sum()"
   ]
  },
  {
   "cell_type": "code",
   "execution_count": 610,
   "id": "e896d5e0",
   "metadata": {},
   "outputs": [
    {
     "data": {
      "text/plain": [
       "54"
      ]
     },
     "execution_count": 610,
     "metadata": {},
     "output_type": "execute_result"
    }
   ],
   "source": [
    "#identifying the no.of columns with all missing values\n",
    "loan_main.isnull().all(axis=0).sum()"
   ]
  },
  {
   "cell_type": "code",
   "execution_count": 611,
   "id": "650e17cf",
   "metadata": {},
   "outputs": [
    {
     "data": {
      "text/plain": [
       "0"
      ]
     },
     "execution_count": 611,
     "metadata": {},
     "output_type": "execute_result"
    }
   ],
   "source": [
    "#identifying the no.of rows with all missing values\n",
    "loan_main.isnull().all(axis=1).sum()"
   ]
  },
  {
   "cell_type": "code",
   "execution_count": 612,
   "id": "dd67f955",
   "metadata": {},
   "outputs": [
    {
     "name": "stdout",
     "output_type": "stream",
     "text": [
      "id                              0.0\n",
      "member_id                       0.0\n",
      "loan_amnt                       0.0\n",
      "funded_amnt                     0.0\n",
      "funded_amnt_inv                 0.0\n",
      "                              ...  \n",
      "tax_liens                       0.1\n",
      "tot_hi_cred_lim               100.0\n",
      "total_bal_ex_mort             100.0\n",
      "total_bc_limit                100.0\n",
      "total_il_high_credit_limit    100.0\n",
      "Length: 111, dtype: float64\n"
     ]
    }
   ],
   "source": [
    "#calculating percentage of missing values in each column\n",
    "x=round(100*(loan_main.isnull().sum()/len(loan_main.index)),2)\n",
    "print(x)"
   ]
  },
  {
   "cell_type": "code",
   "execution_count": 613,
   "id": "38655d04",
   "metadata": {},
   "outputs": [
    {
     "name": "stdout",
     "output_type": "stream",
     "text": [
      "mths_since_last_major_derog       100.0\n",
      "annual_inc_joint                  100.0\n",
      "dti_joint                         100.0\n",
      "verification_status_joint         100.0\n",
      "tot_coll_amt                      100.0\n",
      "tot_cur_bal                       100.0\n",
      "open_acc_6m                       100.0\n",
      "open_il_6m                        100.0\n",
      "open_il_12m                       100.0\n",
      "open_il_24m                       100.0\n",
      "mths_since_rcnt_il                100.0\n",
      "total_bal_il                      100.0\n",
      "il_util                           100.0\n",
      "open_rv_12m                       100.0\n",
      "open_rv_24m                       100.0\n",
      "max_bal_bc                        100.0\n",
      "all_util                          100.0\n",
      "total_rev_hi_lim                  100.0\n",
      "inq_fi                            100.0\n",
      "total_cu_tl                       100.0\n",
      "inq_last_12m                      100.0\n",
      "acc_open_past_24mths              100.0\n",
      "avg_cur_bal                       100.0\n",
      "bc_open_to_buy                    100.0\n",
      "bc_util                           100.0\n",
      "mo_sin_old_il_acct                100.0\n",
      "mo_sin_old_rev_tl_op              100.0\n",
      "mo_sin_rcnt_rev_tl_op             100.0\n",
      "mo_sin_rcnt_tl                    100.0\n",
      "mort_acc                          100.0\n",
      "mths_since_recent_bc              100.0\n",
      "mths_since_recent_bc_dlq          100.0\n",
      "mths_since_recent_inq             100.0\n",
      "mths_since_recent_revol_delinq    100.0\n",
      "num_accts_ever_120_pd             100.0\n",
      "num_actv_bc_tl                    100.0\n",
      "num_actv_rev_tl                   100.0\n",
      "num_bc_sats                       100.0\n",
      "num_bc_tl                         100.0\n",
      "num_il_tl                         100.0\n",
      "num_op_rev_tl                     100.0\n",
      "num_rev_accts                     100.0\n",
      "num_rev_tl_bal_gt_0               100.0\n",
      "num_sats                          100.0\n",
      "num_tl_120dpd_2m                  100.0\n",
      "num_tl_30dpd                      100.0\n",
      "num_tl_90g_dpd_24m                100.0\n",
      "num_tl_op_past_12m                100.0\n",
      "pct_tl_nvr_dlq                    100.0\n",
      "percent_bc_gt_75                  100.0\n",
      "tot_hi_cred_lim                   100.0\n",
      "total_bal_ex_mort                 100.0\n",
      "total_bc_limit                    100.0\n",
      "total_il_high_credit_limit        100.0\n",
      "dtype: float64\n"
     ]
    }
   ],
   "source": [
    "#identifying columns with all missing (100%) values\n",
    "y=x[x==100]\n",
    "print(y)"
   ]
  },
  {
   "cell_type": "code",
   "execution_count": 614,
   "id": "c3b19c31",
   "metadata": {},
   "outputs": [
    {
     "data": {
      "text/plain": [
       "54"
      ]
     },
     "execution_count": 614,
     "metadata": {},
     "output_type": "execute_result"
    }
   ],
   "source": [
    "len(y)"
   ]
  },
  {
   "cell_type": "code",
   "execution_count": 615,
   "id": "55f17ac1",
   "metadata": {},
   "outputs": [],
   "source": [
    "#drop all the columns with 100% missing values\n",
    "loan_main=loan_main.drop(labels=y.index,axis=1)"
   ]
  },
  {
   "cell_type": "code",
   "execution_count": 616,
   "id": "65d61025",
   "metadata": {},
   "outputs": [
    {
     "data": {
      "text/plain": [
       "id                             0.00\n",
       "member_id                      0.00\n",
       "loan_amnt                      0.00\n",
       "funded_amnt                    0.00\n",
       "funded_amnt_inv                0.00\n",
       "term                           0.00\n",
       "int_rate                       0.00\n",
       "installment                    0.00\n",
       "grade                          0.00\n",
       "sub_grade                      0.00\n",
       "emp_title                      6.19\n",
       "emp_length                     2.71\n",
       "home_ownership                 0.00\n",
       "annual_inc                     0.00\n",
       "verification_status            0.00\n",
       "issue_d                        0.00\n",
       "loan_status                    0.00\n",
       "pymnt_plan                     0.00\n",
       "url                            0.00\n",
       "desc                          32.59\n",
       "purpose                        0.00\n",
       "title                          0.03\n",
       "zip_code                       0.00\n",
       "addr_state                     0.00\n",
       "dti                            0.00\n",
       "delinq_2yrs                    0.00\n",
       "earliest_cr_line               0.00\n",
       "inq_last_6mths                 0.00\n",
       "mths_since_last_delinq        64.66\n",
       "mths_since_last_record        92.99\n",
       "open_acc                       0.00\n",
       "pub_rec                        0.00\n",
       "revol_bal                      0.00\n",
       "revol_util                     0.13\n",
       "total_acc                      0.00\n",
       "initial_list_status            0.00\n",
       "out_prncp                      0.00\n",
       "out_prncp_inv                  0.00\n",
       "total_pymnt                    0.00\n",
       "total_pymnt_inv                0.00\n",
       "total_rec_prncp                0.00\n",
       "total_rec_int                  0.00\n",
       "total_rec_late_fee             0.00\n",
       "recoveries                     0.00\n",
       "collection_recovery_fee        0.00\n",
       "last_pymnt_d                   0.18\n",
       "last_pymnt_amnt                0.00\n",
       "next_pymnt_d                  97.13\n",
       "last_credit_pull_d             0.01\n",
       "collections_12_mths_ex_med     0.14\n",
       "policy_code                    0.00\n",
       "application_type               0.00\n",
       "acc_now_delinq                 0.00\n",
       "chargeoff_within_12_mths       0.14\n",
       "delinq_amnt                    0.00\n",
       "pub_rec_bankruptcies           1.75\n",
       "tax_liens                      0.10\n",
       "dtype: float64"
      ]
     },
     "execution_count": 616,
     "metadata": {},
     "output_type": "execute_result"
    }
   ],
   "source": [
    "#calculating percentage of missing values in each column\n",
    "round(100*(loan_main.isnull().sum()/len(loan_main.index)),2)"
   ]
  },
  {
   "cell_type": "code",
   "execution_count": 617,
   "id": "b0f656b7",
   "metadata": {},
   "outputs": [],
   "source": [
    "#drop of columns with more than 90% missing values\n",
    "loan_main=loan_main.drop(labels=['mths_since_last_record','next_pymnt_d','mths_since_last_delinq'],axis=1)"
   ]
  },
  {
   "cell_type": "code",
   "execution_count": 618,
   "id": "a34c832f",
   "metadata": {},
   "outputs": [],
   "source": [
    "#removes rows with null values \n",
    "loan_main=loan_main[~loan_main.emp_length.isnull()]\n",
    "loan_main=loan_main[~loan_main.emp_title.isnull()]\n",
    "loan_main=loan_main[~loan_main.revol_util.isnull()]\n",
    "loan_main=loan_main[~loan_main.last_pymnt_d.isnull()]\n",
    "loan_main=loan_main[~loan_main.title.isnull()]\n",
    "loan_main=loan_main[~loan_main.collections_12_mths_ex_med.isnull()]\n",
    "loan_main=loan_main[~loan_main.chargeoff_within_12_mths.isnull()]\n",
    "loan_main=loan_main[~loan_main.pub_rec_bankruptcies.isnull()]\n",
    "loan_main=loan_main[~loan_main.tax_liens.isnull()]"
   ]
  },
  {
   "cell_type": "code",
   "execution_count": 619,
   "id": "6d3ab57f",
   "metadata": {},
   "outputs": [],
   "source": [
    "#imputing the desc missing values with 'No Description'\n",
    "loan_main.desc=loan_main.desc.fillna('No Description')"
   ]
  },
  {
   "cell_type": "code",
   "execution_count": 620,
   "id": "e414c1d6",
   "metadata": {},
   "outputs": [
    {
     "data": {
      "text/plain": [
       "id                            0.0\n",
       "member_id                     0.0\n",
       "loan_amnt                     0.0\n",
       "funded_amnt                   0.0\n",
       "funded_amnt_inv               0.0\n",
       "term                          0.0\n",
       "int_rate                      0.0\n",
       "installment                   0.0\n",
       "grade                         0.0\n",
       "sub_grade                     0.0\n",
       "emp_title                     0.0\n",
       "emp_length                    0.0\n",
       "home_ownership                0.0\n",
       "annual_inc                    0.0\n",
       "verification_status           0.0\n",
       "issue_d                       0.0\n",
       "loan_status                   0.0\n",
       "pymnt_plan                    0.0\n",
       "url                           0.0\n",
       "desc                          0.0\n",
       "purpose                       0.0\n",
       "title                         0.0\n",
       "zip_code                      0.0\n",
       "addr_state                    0.0\n",
       "dti                           0.0\n",
       "delinq_2yrs                   0.0\n",
       "earliest_cr_line              0.0\n",
       "inq_last_6mths                0.0\n",
       "open_acc                      0.0\n",
       "pub_rec                       0.0\n",
       "revol_bal                     0.0\n",
       "revol_util                    0.0\n",
       "total_acc                     0.0\n",
       "initial_list_status           0.0\n",
       "out_prncp                     0.0\n",
       "out_prncp_inv                 0.0\n",
       "total_pymnt                   0.0\n",
       "total_pymnt_inv               0.0\n",
       "total_rec_prncp               0.0\n",
       "total_rec_int                 0.0\n",
       "total_rec_late_fee            0.0\n",
       "recoveries                    0.0\n",
       "collection_recovery_fee       0.0\n",
       "last_pymnt_d                  0.0\n",
       "last_pymnt_amnt               0.0\n",
       "last_credit_pull_d            0.0\n",
       "collections_12_mths_ex_med    0.0\n",
       "policy_code                   0.0\n",
       "application_type              0.0\n",
       "acc_now_delinq                0.0\n",
       "chargeoff_within_12_mths      0.0\n",
       "delinq_amnt                   0.0\n",
       "pub_rec_bankruptcies          0.0\n",
       "tax_liens                     0.0\n",
       "dtype: float64"
      ]
     },
     "execution_count": 620,
     "metadata": {},
     "output_type": "execute_result"
    }
   ],
   "source": [
    "#calculating percentage of missing values in each column after data cleaning\n",
    "round(100*(loan_main.isnull().sum()/len(loan_main.index)),2)"
   ]
  },
  {
   "cell_type": "code",
   "execution_count": 621,
   "id": "f95a6102",
   "metadata": {},
   "outputs": [
    {
     "name": "stdout",
     "output_type": "stream",
     "text": [
      "<class 'pandas.core.frame.DataFrame'>\n",
      "Index: 36431 entries, 1 to 39623\n",
      "Data columns (total 54 columns):\n",
      " #   Column                      Non-Null Count  Dtype  \n",
      "---  ------                      --------------  -----  \n",
      " 0   id                          36431 non-null  int64  \n",
      " 1   member_id                   36431 non-null  int64  \n",
      " 2   loan_amnt                   36431 non-null  int64  \n",
      " 3   funded_amnt                 36431 non-null  int64  \n",
      " 4   funded_amnt_inv             36431 non-null  float64\n",
      " 5   term                        36431 non-null  object \n",
      " 6   int_rate                    36431 non-null  object \n",
      " 7   installment                 36431 non-null  float64\n",
      " 8   grade                       36431 non-null  object \n",
      " 9   sub_grade                   36431 non-null  object \n",
      " 10  emp_title                   36431 non-null  object \n",
      " 11  emp_length                  36431 non-null  object \n",
      " 12  home_ownership              36431 non-null  object \n",
      " 13  annual_inc                  36431 non-null  float64\n",
      " 14  verification_status         36431 non-null  object \n",
      " 15  issue_d                     36431 non-null  object \n",
      " 16  loan_status                 36431 non-null  object \n",
      " 17  pymnt_plan                  36431 non-null  object \n",
      " 18  url                         36431 non-null  object \n",
      " 19  desc                        36431 non-null  object \n",
      " 20  purpose                     36431 non-null  object \n",
      " 21  title                       36431 non-null  object \n",
      " 22  zip_code                    36431 non-null  object \n",
      " 23  addr_state                  36431 non-null  object \n",
      " 24  dti                         36431 non-null  float64\n",
      " 25  delinq_2yrs                 36431 non-null  int64  \n",
      " 26  earliest_cr_line            36431 non-null  object \n",
      " 27  inq_last_6mths              36431 non-null  int64  \n",
      " 28  open_acc                    36431 non-null  int64  \n",
      " 29  pub_rec                     36431 non-null  int64  \n",
      " 30  revol_bal                   36431 non-null  int64  \n",
      " 31  revol_util                  36431 non-null  object \n",
      " 32  total_acc                   36431 non-null  int64  \n",
      " 33  initial_list_status         36431 non-null  object \n",
      " 34  out_prncp                   36431 non-null  float64\n",
      " 35  out_prncp_inv               36431 non-null  float64\n",
      " 36  total_pymnt                 36431 non-null  float64\n",
      " 37  total_pymnt_inv             36431 non-null  float64\n",
      " 38  total_rec_prncp             36431 non-null  float64\n",
      " 39  total_rec_int               36431 non-null  float64\n",
      " 40  total_rec_late_fee          36431 non-null  float64\n",
      " 41  recoveries                  36431 non-null  float64\n",
      " 42  collection_recovery_fee     36431 non-null  float64\n",
      " 43  last_pymnt_d                36431 non-null  object \n",
      " 44  last_pymnt_amnt             36431 non-null  float64\n",
      " 45  last_credit_pull_d          36431 non-null  object \n",
      " 46  collections_12_mths_ex_med  36431 non-null  float64\n",
      " 47  policy_code                 36431 non-null  int64  \n",
      " 48  application_type            36431 non-null  object \n",
      " 49  acc_now_delinq              36431 non-null  int64  \n",
      " 50  chargeoff_within_12_mths    36431 non-null  float64\n",
      " 51  delinq_amnt                 36431 non-null  int64  \n",
      " 52  pub_rec_bankruptcies        36431 non-null  float64\n",
      " 53  tax_liens                   36431 non-null  float64\n",
      "dtypes: float64(18), int64(13), object(23)\n",
      "memory usage: 15.3+ MB\n"
     ]
    }
   ],
   "source": [
    "loan_main.info()"
   ]
  },
  {
   "cell_type": "code",
   "execution_count": 622,
   "id": "c952dc8e",
   "metadata": {},
   "outputs": [
    {
     "data": {
      "text/plain": [
       "91.73"
      ]
     },
     "execution_count": 622,
     "metadata": {},
     "output_type": "execute_result"
    }
   ],
   "source": [
    "#fraction of rows remaining after data cleaning\n",
    "round(100*(len(loan_main.index)/39717),2)"
   ]
  },
  {
   "cell_type": "markdown",
   "id": "b156b6f7",
   "metadata": {},
   "source": [
    "### So 8.27% of observation lost in data cleaning"
   ]
  },
  {
   "cell_type": "code",
   "execution_count": 623,
   "id": "f53dcf6a",
   "metadata": {},
   "outputs": [
    {
     "data": {
      "text/plain": [
       "loan_status\n",
       "Fully Paid     83.51\n",
       "Charged Off    13.57\n",
       "Current         2.93\n",
       "Name: count, dtype: float64"
      ]
     },
     "execution_count": 623,
     "metadata": {},
     "output_type": "execute_result"
    }
   ],
   "source": [
    "round(100*(loan_main.loan_status.value_counts()/36431),2)"
   ]
  },
  {
   "cell_type": "markdown",
   "id": "5b8f0dc1",
   "metadata": {},
   "source": [
    "### Defaulted loans percentage - 13.57% "
   ]
  },
  {
   "cell_type": "code",
   "execution_count": 624,
   "id": "b0af0db3",
   "metadata": {},
   "outputs": [
    {
     "data": {
      "image/png": "[encoded data removed]",
      "text/plain": [
       "<Figure size 640x480 with 1 Axes>"
      ]
     },
     "metadata": {},
     "output_type": "display_data"
    }
   ],
   "source": [
    "#more no.of inquires made in last 6months chances of default are more\n",
    "sns.boxplot(x=loan_main.loan_status,y=loan_main.inq_last_6mths)\n",
    "plt.show()"
   ]
  },
  {
   "cell_type": "code",
   "execution_count": 625,
   "id": "eec58b75",
   "metadata": {},
   "outputs": [
    {
     "data": {
      "text/plain": [
       "<Axes: xlabel='home_ownership'>"
      ]
     },
     "execution_count": 625,
     "metadata": {},
     "output_type": "execute_result"
    },
    {
     "data": {
      "image/png": "[encoded data removed]",
      "text/plain": [
       "<Figure size 640x480 with 1 Axes>"
      ]
     },
     "metadata": {},
     "output_type": "display_data"
    }
   ],
   "source": [
    "#rent and mortagage applicants who defaulted made more inquiries than own house applicants\n",
    "abc=loan_main.groupby(['loan_status','home_ownership']).inq_last_6mths.count()\n",
    "abc['Charged Off'].plot.bar()"
   ]
  },
  {
   "cell_type": "code",
   "execution_count": 626,
   "id": "fa470f95",
   "metadata": {},
   "outputs": [
    {
     "data": {
      "image/png": "[encoded data removed]",
      "text/plain": [
       "<Figure size 640x480 with 1 Axes>"
      ]
     },
     "metadata": {},
     "output_type": "display_data"
    }
   ],
   "source": [
    "loan_main.annual_inc.plot.box()\n",
    "plt.show()"
   ]
  },
  {
   "cell_type": "code",
   "execution_count": 627,
   "id": "f4af7dd3",
   "metadata": {},
   "outputs": [
    {
     "data": {
      "text/plain": [
       "115000.0"
      ]
     },
     "execution_count": 627,
     "metadata": {},
     "output_type": "execute_result"
    }
   ],
   "source": [
    "#calculating 90% percentile for annual_inc\n",
    "np.quantile(loan_main.annual_inc,0.90)"
   ]
  },
  {
   "cell_type": "code",
   "execution_count": 628,
   "id": "cd391f85",
   "metadata": {},
   "outputs": [],
   "source": [
    "#removing outliers from annual_inc\n",
    "loan_main=loan_main[loan_main.annual_inc<115000]"
   ]
  },
  {
   "cell_type": "code",
   "execution_count": 629,
   "id": "9be7feb6",
   "metadata": {},
   "outputs": [
    {
     "data": {
      "image/png": "[encoded data removed]",
      "text/plain": [
       "<Figure size 640x480 with 1 Axes>"
      ]
     },
     "metadata": {},
     "output_type": "display_data"
    }
   ],
   "source": [
    "#more annual income less likely to default\n",
    "sns.boxplot(x=loan_main.loan_status,y=loan_main.annual_inc)\n",
    "plt.show()"
   ]
  },
  {
   "cell_type": "code",
   "execution_count": 630,
   "id": "30daf83a",
   "metadata": {},
   "outputs": [],
   "source": [
    "# dti debt to income ratio data given in the dataset is greater than 1 always which seems inaccurate so calculated emi/inc \n",
    "# which is monthly instalment to montly income percentage \n",
    "loan_main['emi/inc']=round(100*(loan_main.installment/(loan_main.annual_inc/12)),2)"
   ]
  },
  {
   "cell_type": "code",
   "execution_count": 631,
   "id": "25de8380",
   "metadata": {},
   "outputs": [
    {
     "data": {
      "text/plain": [
       "1    2.39\n",
       "3    8.28\n",
       "4    1.02\n",
       "5    5.22\n",
       "6    4.34\n",
       "Name: emi/inc, dtype: float64"
      ]
     },
     "execution_count": 631,
     "metadata": {},
     "output_type": "execute_result"
    }
   ],
   "source": [
    "loan_main['emi/inc'].head()"
   ]
  },
  {
   "cell_type": "code",
   "execution_count": 632,
   "id": "2a05b9fe",
   "metadata": {},
   "outputs": [
    {
     "data": {
      "text/plain": [
       "18.582900000000006"
      ]
     },
     "execution_count": 632,
     "metadata": {},
     "output_type": "execute_result"
    }
   ],
   "source": [
    "np.quantile(loan_main['emi/inc'],0.99)"
   ]
  },
  {
   "cell_type": "code",
   "execution_count": 633,
   "id": "ebefcc3e",
   "metadata": {},
   "outputs": [],
   "source": [
    "loan_main=loan_main[loan_main['emi/inc']<19]"
   ]
  },
  {
   "cell_type": "code",
   "execution_count": 634,
   "id": "5a55162c",
   "metadata": {},
   "outputs": [
    {
     "data": {
      "image/png": "[encoded data removed]",
      "text/plain": [
       "<Figure size 640x480 with 1 Axes>"
      ]
     },
     "metadata": {},
     "output_type": "display_data"
    }
   ],
   "source": [
    "#more the emi per monthly income chances of deafult is high\n",
    "sns.boxplot(x=loan_main.loan_status,y=loan_main['emi/inc'])\n",
    "plt.show()"
   ]
  },
  {
   "cell_type": "code",
   "execution_count": 635,
   "id": "c4ad0289",
   "metadata": {},
   "outputs": [
    {
     "data": {
      "text/plain": [
       "<Axes: ylabel='count'>"
      ]
     },
     "execution_count": 635,
     "metadata": {},
     "output_type": "execute_result"
    },
    {
     "data": {
      "image/png": "[encoded data removed]",
      "text/plain": [
       "<Figure size 640x480 with 1 Axes>"
      ]
     },
     "metadata": {},
     "output_type": "display_data"
    }
   ],
   "source": [
    "#applicants with home ownership as rent and mortgage are more likely to default than with own house\n",
    "loan_defaults=loan_main[(loan_main.loan_status=='Charged Off')]\n",
    "loan_defaults['home_ownership'].value_counts().plot.pie()"
   ]
  },
  {
   "cell_type": "code",
   "execution_count": 636,
   "id": "596ce8ef",
   "metadata": {},
   "outputs": [
    {
     "data": {
      "text/plain": [
       "loan_status  home_ownership\n",
       "Charged Off  RENT               2354\n",
       "             MORTGAGE           1791\n",
       "             OWN                 328\n",
       "             OTHER                17\n",
       "Current      MORTGAGE            494\n",
       "             RENT                367\n",
       "             OWN                  63\n",
       "Fully Paid   RENT              13631\n",
       "             MORTGAGE          11321\n",
       "             OWN                1972\n",
       "             OTHER                68\n",
       "Name: count, dtype: int64"
      ]
     },
     "execution_count": 636,
     "metadata": {},
     "output_type": "execute_result"
    }
   ],
   "source": [
    "#applicants with home ownership as rent and mortgage are more likely to default than with own house\n",
    "loan_main.groupby('loan_status').home_ownership.value_counts()\n"
   ]
  },
  {
   "cell_type": "code",
   "execution_count": 637,
   "id": "85bbefe0",
   "metadata": {},
   "outputs": [
    {
     "data": {
      "text/html": [
       "<div>\n",
       "<style scoped>\n",
       "    .dataframe tbody tr th:only-of-type {\n",
       "        vertical-align: middle;\n",
       "    }\n",
       "\n",
       "    .dataframe tbody tr th {\n",
       "        vertical-align: top;\n",
       "    }\n",
       "\n",
       "    .dataframe thead th {\n",
       "        text-align: right;\n",
       "    }\n",
       "</style>\n",
       "<table border=\"1\" class=\"dataframe\">\n",
       "  <thead>\n",
       "    <tr style=\"text-align: right;\">\n",
       "      <th>loan_status</th>\n",
       "      <th>Charged Off</th>\n",
       "      <th>Fully Paid</th>\n",
       "      <th>Total</th>\n",
       "      <th>%Charged Off</th>\n",
       "      <th>%Fully Paid</th>\n",
       "    </tr>\n",
       "    <tr>\n",
       "      <th>addr_state</th>\n",
       "      <th></th>\n",
       "      <th></th>\n",
       "      <th></th>\n",
       "      <th></th>\n",
       "      <th></th>\n",
       "    </tr>\n",
       "  </thead>\n",
       "  <tbody>\n",
       "    <tr>\n",
       "      <th>TN</th>\n",
       "      <td>2.0</td>\n",
       "      <td>7.0</td>\n",
       "      <td>9.0</td>\n",
       "      <td>22.22</td>\n",
       "      <td>77.78</td>\n",
       "    </tr>\n",
       "    <tr>\n",
       "      <th>NV</th>\n",
       "      <td>87.0</td>\n",
       "      <td>307.0</td>\n",
       "      <td>394.0</td>\n",
       "      <td>22.08</td>\n",
       "      <td>77.92</td>\n",
       "    </tr>\n",
       "    <tr>\n",
       "      <th>AK</th>\n",
       "      <td>13.0</td>\n",
       "      <td>48.0</td>\n",
       "      <td>61.0</td>\n",
       "      <td>21.31</td>\n",
       "      <td>78.69</td>\n",
       "    </tr>\n",
       "    <tr>\n",
       "      <th>NM</th>\n",
       "      <td>28.0</td>\n",
       "      <td>123.0</td>\n",
       "      <td>151.0</td>\n",
       "      <td>18.54</td>\n",
       "      <td>81.46</td>\n",
       "    </tr>\n",
       "    <tr>\n",
       "      <th>SD</th>\n",
       "      <td>10.0</td>\n",
       "      <td>45.0</td>\n",
       "      <td>55.0</td>\n",
       "      <td>18.18</td>\n",
       "      <td>81.82</td>\n",
       "    </tr>\n",
       "    <tr>\n",
       "      <th>HI</th>\n",
       "      <td>25.0</td>\n",
       "      <td>116.0</td>\n",
       "      <td>141.0</td>\n",
       "      <td>17.73</td>\n",
       "      <td>82.27</td>\n",
       "    </tr>\n",
       "    <tr>\n",
       "      <th>FL</th>\n",
       "      <td>400.0</td>\n",
       "      <td>1908.0</td>\n",
       "      <td>2308.0</td>\n",
       "      <td>17.33</td>\n",
       "      <td>82.67</td>\n",
       "    </tr>\n",
       "    <tr>\n",
       "      <th>GA</th>\n",
       "      <td>181.0</td>\n",
       "      <td>940.0</td>\n",
       "      <td>1121.0</td>\n",
       "      <td>16.15</td>\n",
       "      <td>83.85</td>\n",
       "    </tr>\n",
       "    <tr>\n",
       "      <th>NJ</th>\n",
       "      <td>228.0</td>\n",
       "      <td>1190.0</td>\n",
       "      <td>1418.0</td>\n",
       "      <td>16.08</td>\n",
       "      <td>83.92</td>\n",
       "    </tr>\n",
       "    <tr>\n",
       "      <th>WA</th>\n",
       "      <td>103.0</td>\n",
       "      <td>544.0</td>\n",
       "      <td>647.0</td>\n",
       "      <td>15.92</td>\n",
       "      <td>84.08</td>\n",
       "    </tr>\n",
       "    <tr>\n",
       "      <th>OR</th>\n",
       "      <td>57.0</td>\n",
       "      <td>308.0</td>\n",
       "      <td>365.0</td>\n",
       "      <td>15.62</td>\n",
       "      <td>84.38</td>\n",
       "    </tr>\n",
       "    <tr>\n",
       "      <th>MO</th>\n",
       "      <td>90.0</td>\n",
       "      <td>487.0</td>\n",
       "      <td>577.0</td>\n",
       "      <td>15.60</td>\n",
       "      <td>84.40</td>\n",
       "    </tr>\n",
       "    <tr>\n",
       "      <th>CA</th>\n",
       "      <td>862.0</td>\n",
       "      <td>4694.0</td>\n",
       "      <td>5556.0</td>\n",
       "      <td>15.51</td>\n",
       "      <td>84.49</td>\n",
       "    </tr>\n",
       "    <tr>\n",
       "      <th>NH</th>\n",
       "      <td>20.0</td>\n",
       "      <td>109.0</td>\n",
       "      <td>129.0</td>\n",
       "      <td>15.50</td>\n",
       "      <td>84.50</td>\n",
       "    </tr>\n",
       "    <tr>\n",
       "      <th>KY</th>\n",
       "      <td>42.0</td>\n",
       "      <td>235.0</td>\n",
       "      <td>277.0</td>\n",
       "      <td>15.16</td>\n",
       "      <td>84.84</td>\n",
       "    </tr>\n",
       "    <tr>\n",
       "      <th>NC</th>\n",
       "      <td>92.0</td>\n",
       "      <td>521.0</td>\n",
       "      <td>613.0</td>\n",
       "      <td>15.01</td>\n",
       "      <td>84.99</td>\n",
       "    </tr>\n",
       "    <tr>\n",
       "      <th>SC</th>\n",
       "      <td>58.0</td>\n",
       "      <td>330.0</td>\n",
       "      <td>388.0</td>\n",
       "      <td>14.95</td>\n",
       "      <td>85.05</td>\n",
       "    </tr>\n",
       "    <tr>\n",
       "      <th>UT</th>\n",
       "      <td>31.0</td>\n",
       "      <td>180.0</td>\n",
       "      <td>211.0</td>\n",
       "      <td>14.69</td>\n",
       "      <td>85.31</td>\n",
       "    </tr>\n",
       "    <tr>\n",
       "      <th>AZ</th>\n",
       "      <td>98.0</td>\n",
       "      <td>578.0</td>\n",
       "      <td>676.0</td>\n",
       "      <td>14.50</td>\n",
       "      <td>85.50</td>\n",
       "    </tr>\n",
       "    <tr>\n",
       "      <th>MD</th>\n",
       "      <td>117.0</td>\n",
       "      <td>691.0</td>\n",
       "      <td>808.0</td>\n",
       "      <td>14.48</td>\n",
       "      <td>85.52</td>\n",
       "    </tr>\n",
       "    <tr>\n",
       "      <th>IL</th>\n",
       "      <td>177.0</td>\n",
       "      <td>1051.0</td>\n",
       "      <td>1228.0</td>\n",
       "      <td>14.41</td>\n",
       "      <td>85.59</td>\n",
       "    </tr>\n",
       "    <tr>\n",
       "      <th>OK</th>\n",
       "      <td>35.0</td>\n",
       "      <td>214.0</td>\n",
       "      <td>249.0</td>\n",
       "      <td>14.06</td>\n",
       "      <td>85.94</td>\n",
       "    </tr>\n",
       "    <tr>\n",
       "      <th>MI</th>\n",
       "      <td>82.0</td>\n",
       "      <td>503.0</td>\n",
       "      <td>585.0</td>\n",
       "      <td>14.02</td>\n",
       "      <td>85.98</td>\n",
       "    </tr>\n",
       "    <tr>\n",
       "      <th>MN</th>\n",
       "      <td>71.0</td>\n",
       "      <td>440.0</td>\n",
       "      <td>511.0</td>\n",
       "      <td>13.89</td>\n",
       "      <td>86.11</td>\n",
       "    </tr>\n",
       "    <tr>\n",
       "      <th>RI</th>\n",
       "      <td>23.0</td>\n",
       "      <td>144.0</td>\n",
       "      <td>167.0</td>\n",
       "      <td>13.77</td>\n",
       "      <td>86.23</td>\n",
       "    </tr>\n",
       "    <tr>\n",
       "      <th>VA</th>\n",
       "      <td>148.0</td>\n",
       "      <td>951.0</td>\n",
       "      <td>1099.0</td>\n",
       "      <td>13.47</td>\n",
       "      <td>86.53</td>\n",
       "    </tr>\n",
       "    <tr>\n",
       "      <th>WV</th>\n",
       "      <td>20.0</td>\n",
       "      <td>131.0</td>\n",
       "      <td>151.0</td>\n",
       "      <td>13.25</td>\n",
       "      <td>86.75</td>\n",
       "    </tr>\n",
       "    <tr>\n",
       "      <th>OH</th>\n",
       "      <td>133.0</td>\n",
       "      <td>881.0</td>\n",
       "      <td>1014.0</td>\n",
       "      <td>13.12</td>\n",
       "      <td>86.88</td>\n",
       "    </tr>\n",
       "    <tr>\n",
       "      <th>NY</th>\n",
       "      <td>386.0</td>\n",
       "      <td>2618.0</td>\n",
       "      <td>3004.0</td>\n",
       "      <td>12.85</td>\n",
       "      <td>87.15</td>\n",
       "    </tr>\n",
       "    <tr>\n",
       "      <th>CT</th>\n",
       "      <td>72.0</td>\n",
       "      <td>493.0</td>\n",
       "      <td>565.0</td>\n",
       "      <td>12.74</td>\n",
       "      <td>87.26</td>\n",
       "    </tr>\n",
       "    <tr>\n",
       "      <th>WI</th>\n",
       "      <td>44.0</td>\n",
       "      <td>318.0</td>\n",
       "      <td>362.0</td>\n",
       "      <td>12.15</td>\n",
       "      <td>87.85</td>\n",
       "    </tr>\n",
       "    <tr>\n",
       "      <th>MA</th>\n",
       "      <td>125.0</td>\n",
       "      <td>906.0</td>\n",
       "      <td>1031.0</td>\n",
       "      <td>12.12</td>\n",
       "      <td>87.88</td>\n",
       "    </tr>\n",
       "    <tr>\n",
       "      <th>CO</th>\n",
       "      <td>74.0</td>\n",
       "      <td>543.0</td>\n",
       "      <td>617.0</td>\n",
       "      <td>11.99</td>\n",
       "      <td>88.01</td>\n",
       "    </tr>\n",
       "    <tr>\n",
       "      <th>LA</th>\n",
       "      <td>41.0</td>\n",
       "      <td>306.0</td>\n",
       "      <td>347.0</td>\n",
       "      <td>11.82</td>\n",
       "      <td>88.18</td>\n",
       "    </tr>\n",
       "    <tr>\n",
       "      <th>AL</th>\n",
       "      <td>43.0</td>\n",
       "      <td>323.0</td>\n",
       "      <td>366.0</td>\n",
       "      <td>11.75</td>\n",
       "      <td>88.25</td>\n",
       "    </tr>\n",
       "    <tr>\n",
       "      <th>PA</th>\n",
       "      <td>148.0</td>\n",
       "      <td>1120.0</td>\n",
       "      <td>1268.0</td>\n",
       "      <td>11.67</td>\n",
       "      <td>88.33</td>\n",
       "    </tr>\n",
       "    <tr>\n",
       "      <th>AR</th>\n",
       "      <td>23.0</td>\n",
       "      <td>175.0</td>\n",
       "      <td>198.0</td>\n",
       "      <td>11.62</td>\n",
       "      <td>88.38</td>\n",
       "    </tr>\n",
       "    <tr>\n",
       "      <th>DE</th>\n",
       "      <td>11.0</td>\n",
       "      <td>85.0</td>\n",
       "      <td>96.0</td>\n",
       "      <td>11.46</td>\n",
       "      <td>88.54</td>\n",
       "    </tr>\n",
       "    <tr>\n",
       "      <th>MT</th>\n",
       "      <td>8.0</td>\n",
       "      <td>62.0</td>\n",
       "      <td>70.0</td>\n",
       "      <td>11.43</td>\n",
       "      <td>88.57</td>\n",
       "    </tr>\n",
       "    <tr>\n",
       "      <th>TX</th>\n",
       "      <td>240.0</td>\n",
       "      <td>1885.0</td>\n",
       "      <td>2125.0</td>\n",
       "      <td>11.29</td>\n",
       "      <td>88.71</td>\n",
       "    </tr>\n",
       "    <tr>\n",
       "      <th>KS</th>\n",
       "      <td>22.0</td>\n",
       "      <td>192.0</td>\n",
       "      <td>214.0</td>\n",
       "      <td>10.28</td>\n",
       "      <td>89.72</td>\n",
       "    </tr>\n",
       "    <tr>\n",
       "      <th>VT</th>\n",
       "      <td>4.0</td>\n",
       "      <td>41.0</td>\n",
       "      <td>45.0</td>\n",
       "      <td>8.89</td>\n",
       "      <td>91.11</td>\n",
       "    </tr>\n",
       "    <tr>\n",
       "      <th>DC</th>\n",
       "      <td>12.0</td>\n",
       "      <td>163.0</td>\n",
       "      <td>175.0</td>\n",
       "      <td>6.86</td>\n",
       "      <td>93.14</td>\n",
       "    </tr>\n",
       "    <tr>\n",
       "      <th>MS</th>\n",
       "      <td>1.0</td>\n",
       "      <td>16.0</td>\n",
       "      <td>17.0</td>\n",
       "      <td>5.88</td>\n",
       "      <td>94.12</td>\n",
       "    </tr>\n",
       "    <tr>\n",
       "      <th>WY</th>\n",
       "      <td>3.0</td>\n",
       "      <td>65.0</td>\n",
       "      <td>68.0</td>\n",
       "      <td>4.41</td>\n",
       "      <td>95.59</td>\n",
       "    </tr>\n",
       "    <tr>\n",
       "      <th>IA</th>\n",
       "      <td>NaN</td>\n",
       "      <td>1.0</td>\n",
       "      <td>1.0</td>\n",
       "      <td>NaN</td>\n",
       "      <td>100.00</td>\n",
       "    </tr>\n",
       "    <tr>\n",
       "      <th>ID</th>\n",
       "      <td>NaN</td>\n",
       "      <td>3.0</td>\n",
       "      <td>3.0</td>\n",
       "      <td>NaN</td>\n",
       "      <td>100.00</td>\n",
       "    </tr>\n",
       "    <tr>\n",
       "      <th>NE</th>\n",
       "      <td>NaN</td>\n",
       "      <td>1.0</td>\n",
       "      <td>1.0</td>\n",
       "      <td>NaN</td>\n",
       "      <td>100.00</td>\n",
       "    </tr>\n",
       "  </tbody>\n",
       "</table>\n",
       "</div>"
      ],
      "text/plain": [
       "loan_status  Charged Off  Fully Paid   Total  %Charged Off  %Fully Paid\n",
       "addr_state                                                             \n",
       "TN                   2.0         7.0     9.0         22.22        77.78\n",
       "NV                  87.0       307.0   394.0         22.08        77.92\n",
       "AK                  13.0        48.0    61.0         21.31        78.69\n",
       "NM                  28.0       123.0   151.0         18.54        81.46\n",
       "SD                  10.0        45.0    55.0         18.18        81.82\n",
       "HI                  25.0       116.0   141.0         17.73        82.27\n",
       "FL                 400.0      1908.0  2308.0         17.33        82.67\n",
       "GA                 181.0       940.0  1121.0         16.15        83.85\n",
       "NJ                 228.0      1190.0  1418.0         16.08        83.92\n",
       "WA                 103.0       544.0   647.0         15.92        84.08\n",
       "OR                  57.0       308.0   365.0         15.62        84.38\n",
       "MO                  90.0       487.0   577.0         15.60        84.40\n",
       "CA                 862.0      4694.0  5556.0         15.51        84.49\n",
       "NH                  20.0       109.0   129.0         15.50        84.50\n",
       "KY                  42.0       235.0   277.0         15.16        84.84\n",
       "NC                  92.0       521.0   613.0         15.01        84.99\n",
       "SC                  58.0       330.0   388.0         14.95        85.05\n",
       "UT                  31.0       180.0   211.0         14.69        85.31\n",
       "AZ                  98.0       578.0   676.0         14.50        85.50\n",
       "MD                 117.0       691.0   808.0         14.48        85.52\n",
       "IL                 177.0      1051.0  1228.0         14.41        85.59\n",
       "OK                  35.0       214.0   249.0         14.06        85.94\n",
       "MI                  82.0       503.0   585.0         14.02        85.98\n",
       "MN                  71.0       440.0   511.0         13.89        86.11\n",
       "RI                  23.0       144.0   167.0         13.77        86.23\n",
       "VA                 148.0       951.0  1099.0         13.47        86.53\n",
       "WV                  20.0       131.0   151.0         13.25        86.75\n",
       "OH                 133.0       881.0  1014.0         13.12        86.88\n",
       "NY                 386.0      2618.0  3004.0         12.85        87.15\n",
       "CT                  72.0       493.0   565.0         12.74        87.26\n",
       "WI                  44.0       318.0   362.0         12.15        87.85\n",
       "MA                 125.0       906.0  1031.0         12.12        87.88\n",
       "CO                  74.0       543.0   617.0         11.99        88.01\n",
       "LA                  41.0       306.0   347.0         11.82        88.18\n",
       "AL                  43.0       323.0   366.0         11.75        88.25\n",
       "PA                 148.0      1120.0  1268.0         11.67        88.33\n",
       "AR                  23.0       175.0   198.0         11.62        88.38\n",
       "DE                  11.0        85.0    96.0         11.46        88.54\n",
       "MT                   8.0        62.0    70.0         11.43        88.57\n",
       "TX                 240.0      1885.0  2125.0         11.29        88.71\n",
       "KS                  22.0       192.0   214.0         10.28        89.72\n",
       "VT                   4.0        41.0    45.0          8.89        91.11\n",
       "DC                  12.0       163.0   175.0          6.86        93.14\n",
       "MS                   1.0        16.0    17.0          5.88        94.12\n",
       "WY                   3.0        65.0    68.0          4.41        95.59\n",
       "IA                   NaN         1.0     1.0           NaN       100.00\n",
       "ID                   NaN         3.0     3.0           NaN       100.00\n",
       "NE                   NaN         1.0     1.0           NaN       100.00"
      ]
     },
     "execution_count": 637,
     "metadata": {},
     "output_type": "execute_result"
    }
   ],
   "source": [
    "#top 10 state with high default percent\n",
    "df1=loan_main\n",
    "df1['state']=df1['addr_state']\n",
    "df2=pd.pivot_table(data=df1,index='addr_state',columns='loan_status',values='state',aggfunc='count')\n",
    "df3=df2.loc[:,['Charged Off','Fully Paid']]\n",
    "df3['Total']=df3.sum(axis=1)\n",
    "df3['%Charged Off'] = round(100*(df3['Charged Off']/df3['Total']),2)\n",
    "df3['%Fully Paid'] = round(100*(df3['Fully Paid']/df3['Total']),2)\n",
    "df4=df3.sort_values('%Charged Off',ascending=False)\n",
    "df4"
   ]
  },
  {
   "cell_type": "code",
   "execution_count": 638,
   "id": "7254ad09",
   "metadata": {},
   "outputs": [
    {
     "data": {
      "image/png": "[encoded data removed]",
      "text/plain": [
       "<Figure size 1000x500 with 1 Axes>"
      ]
     },
     "metadata": {},
     "output_type": "display_data"
    }
   ],
   "source": [
    "plt.figure(figsize=(10,5))\n",
    "df4['%Charged Off'].plot.bar(stacked=True)\n",
    "plt.show()"
   ]
  },
  {
   "cell_type": "code",
   "execution_count": 639,
   "id": "da49640c",
   "metadata": {},
   "outputs": [
    {
     "data": {
      "text/plain": [
       "13.905777777777777"
      ]
     },
     "execution_count": 639,
     "metadata": {},
     "output_type": "execute_result"
    }
   ],
   "source": [
    "#average default percentage in state\n",
    "df4['%Charged Off'].mean()"
   ]
  },
  {
   "cell_type": "code",
   "execution_count": 640,
   "id": "948299e5",
   "metadata": {},
   "outputs": [],
   "source": [
    "loan_main['int_rate']=loan_main.int_rate.str.rstrip('%').apply(float)\n",
    "loan_main['term']=loan_main.term.str.rstrip(' months').apply(int)\n",
    "loan_main['emp_length']=loan_main.emp_length.str.strip(' years').str.strip(' year').str.replace('< ','0').str.rstrip('+').apply(int)\n"
   ]
  },
  {
   "cell_type": "code",
   "execution_count": 641,
   "id": "1e9f0a8b",
   "metadata": {},
   "outputs": [
    {
     "data": {
      "image/png": "[encoded data removed]",
      "text/plain": [
       "<Figure size 640x480 with 1 Axes>"
      ]
     },
     "metadata": {},
     "output_type": "display_data"
    }
   ],
   "source": [
    "#chances of default high with high intereset rates\n",
    "sns.boxplot(x=loan_main.loan_status,y=loan_main.int_rate)\n",
    "plt.show()"
   ]
  },
  {
   "cell_type": "code",
   "execution_count": 642,
   "id": "923b6d88",
   "metadata": {},
   "outputs": [
    {
     "data": {
      "text/plain": [
       "loan_status  term\n",
       "Charged Off  36       2480\n",
       "             60       2010\n",
       "Current      60        924\n",
       "Fully Paid   36      21104\n",
       "             60       5888\n",
       "Name: int_rate, dtype: int64"
      ]
     },
     "execution_count": 642,
     "metadata": {},
     "output_type": "execute_result"
    }
   ],
   "source": [
    "loan_main.groupby(['loan_status','term']).int_rate.count()"
   ]
  },
  {
   "cell_type": "code",
   "execution_count": 643,
   "id": "195919f2",
   "metadata": {},
   "outputs": [
    {
     "data": {
      "image/png": "[encoded data removed]",
      "text/plain": [
       "<Figure size 640x480 with 1 Axes>"
      ]
     },
     "metadata": {},
     "output_type": "display_data"
    }
   ],
   "source": [
    "sns.boxplot(x=loan_main.loan_status,y=loan_main.installment)\n",
    "plt.show()"
   ]
  },
  {
   "cell_type": "code",
   "execution_count": 646,
   "id": "35818df5",
   "metadata": {},
   "outputs": [
    {
     "data": {
      "image/png": "[encoded data removed]",
      "text/plain": [
       "<Figure size 640x480 with 1 Axes>"
      ]
     },
     "metadata": {},
     "output_type": "display_data"
    }
   ],
   "source": [
    "#employee tenure is more chance of default is less (10+ is high because that includes all the above 10 experiences)\n",
    "loan_main.emp_length[loan_main.loan_status=='Charged Off'].value_counts().plot.bar()\n",
    "plt.show()"
   ]
  }
 ],
 "metadata": {
  "kernelspec": {
   "display_name": "Python 3 (ipykernel)",
   "language": "python",
   "name": "python3"
  },
  "language_info": {
   "codemirror_mode": {
    "name": "ipython",
    "version": 3
   },
   "file_extension": ".py",
   "mimetype": "text/x-python",
   "name": "python",
   "nbconvert_exporter": "python",
   "pygments_lexer": "ipython3",
   "version": "3.11.5"
  }
 },
 "nbformat": 4,
 "nbformat_minor": 5
}
